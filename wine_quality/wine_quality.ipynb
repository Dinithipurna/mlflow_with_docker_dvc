{
 "cells": [
  {
   "cell_type": "code",
   "execution_count": 7,
   "id": "a015cd5c-3364-45e8-ba02-bb4f6ff204e7",
   "metadata": {},
   "outputs": [
    {
     "name": "stdout",
     "output_type": "stream",
     "text": [
      "Cloning into 'mlflow'...\n",
      "remote: Enumerating objects: 51167, done.\u001b[K\n",
      "remote: Total 51167 (delta 0), reused 0 (delta 0), pack-reused 51167\u001b[K\n",
      "Receiving objects: 100% (51167/51167), 69.57 MiB | 939.00 KiB/s, done.\n",
      "Resolving deltas: 100% (39229/39229), done.\n"
     ]
    }
   ],
   "source": [
    "!git clone https://github.com/mlflow/mlflow.git"
   ]
  },
  {
   "cell_type": "code",
   "execution_count": 5,
   "id": "aafd672c-08ca-4712-8638-6a7cf9f5c426",
   "metadata": {},
   "outputs": [],
   "source": [
    "import os\n",
    "import warnings\n",
    "import sys\n",
    "import argparse\n",
    "\n",
    "import pandas as pd\n",
    "import numpy as np\n",
    "from sklearn.metrics import mean_squared_error, mean_absolute_error, r2_score\n",
    "from sklearn.model_selection import train_test_split\n",
    "from sklearn.linear_model import ElasticNet\n",
    "\n",
    "import mlflow\n",
    "import mlflow.sklearn"
   ]
  },
  {
   "cell_type": "code",
   "execution_count": 8,
   "id": "b0c04f4c-2b72-4a14-aff8-848451c1b949",
   "metadata": {},
   "outputs": [],
   "source": [
    "def eval_metrics(actual, pred):\n",
    "    rmse = np.sqrt(mean_squared_error(actual, pred))\n",
    "    mae = mean_absolute_error(actual, pred)\n",
    "    r2 = r2_score(actual, pred)\n",
    "    return rmse, mae, r2"
   ]
  },
  {
   "cell_type": "code",
   "execution_count": 9,
   "id": "31907eca-76e9-409a-99a0-7938d948c7be",
   "metadata": {},
   "outputs": [],
   "source": [
    "np.random.seed(40)"
   ]
  },
  {
   "cell_type": "code",
   "execution_count": 19,
   "id": "d1e39742-ba7f-4207-a048-b1e965b6629e",
   "metadata": {},
   "outputs": [],
   "source": [
    "# alpha=0.5\n",
    "parser = argparse.ArgumentParser()\n",
    "parser.add_argument(\"--alpha\")\n",
    "parser.add_argument(\"--l1-ratio\")\n",
    "args = parser.parse_args(\"\")"
   ]
  },
  {
   "cell_type": "code",
   "execution_count": 13,
   "id": "e753967f-bef4-406f-8208-48b50561381f",
   "metadata": {},
   "outputs": [],
   "source": [
    "# Read the wine-quality csv file (make sure you're running this from the root of MLflow!)\n",
    "wine_path = \"wine-quality.csv\"\n",
    "data = pd.read_csv(wine_path)"
   ]
  },
  {
   "cell_type": "code",
   "execution_count": 14,
   "id": "27f2b305-a272-4c0e-a5c1-7a97acb87af6",
   "metadata": {},
   "outputs": [],
   "source": [
    "# Split the data into training and test sets. (0.75, 0.25) split.\n",
    "train, test = train_test_split(data)"
   ]
  },
  {
   "cell_type": "code",
   "execution_count": 15,
   "id": "cb28b5da-4c28-4007-841e-25a53f33ba29",
   "metadata": {},
   "outputs": [],
   "source": [
    "# The predicted column is \"quality\" which is a scalar from [3, 9]\n",
    "train_x = train.drop([\"quality\"], axis=1)\n",
    "test_x = test.drop([\"quality\"], axis=1)\n",
    "train_y = train[[\"quality\"]]\n",
    "test_y = test[[\"quality\"]]"
   ]
  },
  {
   "cell_type": "code",
   "execution_count": 23,
   "id": "0ad2516e-07e4-4153-ae4c-2513c0a47222",
   "metadata": {},
   "outputs": [],
   "source": [
    "alpha = float(0.5)\n",
    "l1_ratio = float(0.5)"
   ]
  },
  {
   "cell_type": "code",
   "execution_count": 24,
   "id": "dd13f95e-0431-4ff1-9c5a-fe70d5a80844",
   "metadata": {},
   "outputs": [
    {
     "name": "stdout",
     "output_type": "stream",
     "text": [
      "Elasticnet model (alpha=0.500000, l1_ratio=0.500000):\n",
      "  RMSE: 0.82224284975954\n",
      "  MAE: 0.6278761410160691\n",
      "  R2: 0.12678721972772689\n"
     ]
    },
    {
     "name": "stderr",
     "output_type": "stream",
     "text": [
      "/opt/anaconda3/envs/AIF/lib/python3.10/site-packages/_distutils_hack/__init__.py:30: UserWarning: Setuptools is replacing distutils.\n",
      "  warnings.warn(\"Setuptools is replacing distutils.\")\n"
     ]
    }
   ],
   "source": [
    "with mlflow.start_run():\n",
    "    lr = ElasticNet(alpha=alpha, l1_ratio=l1_ratio, random_state=42)\n",
    "    lr.fit(train_x, train_y)\n",
    "\n",
    "    predicted_qualities = lr.predict(test_x)\n",
    "\n",
    "    (rmse, mae, r2) = eval_metrics(test_y, predicted_qualities)\n",
    "\n",
    "    print(\"Elasticnet model (alpha=%f, l1_ratio=%f):\" % (alpha, l1_ratio))\n",
    "    print(\"  RMSE: %s\" % rmse)\n",
    "    print(\"  MAE: %s\" % mae)\n",
    "    print(\"  R2: %s\" % r2)\n",
    "\n",
    "    mlflow.log_param(\"alpha\", alpha)\n",
    "    mlflow.log_param(\"l1_ratio\", l1_ratio)\n",
    "    mlflow.log_metric(\"rmse\", rmse)\n",
    "    mlflow.log_metric(\"r2\", r2)\n",
    "    mlflow.log_metric(\"mae\", mae)\n",
    "\n",
    "    mlflow.sklearn.log_model(lr, \"model\")"
   ]
  },
  {
   "cell_type": "code",
   "execution_count": 28,
   "id": "a6155ba6-ac6c-4ae3-9e39-db75de2eddc0",
   "metadata": {},
   "outputs": [],
   "source": [
    "# !mlflow models build-docker \\\n",
    "#     -m /Users/macbook/Documents/GitHub/mlflow/wine_quality/mlruns/0/6d0e391e9f2342238d453cf268b1077e/artifacts/model \\\n",
    "#     -n my-docker-image \\\n",
    "#     --enable-mlserver"
   ]
  },
  {
   "cell_type": "code",
   "execution_count": 25,
   "id": "e7a0a6f8-9a69-4bfc-abb5-7a7f71b8d0ca",
   "metadata": {},
   "outputs": [
    {
     "data": {
      "text/plain": [
       "'/Users/macbook/Documents/GitHub/mlflow/wine_quality'"
      ]
     },
     "execution_count": 25,
     "metadata": {},
     "output_type": "execute_result"
    }
   ],
   "source": [
    "pwd"
   ]
  },
  {
   "cell_type": "code",
   "execution_count": 29,
   "id": "e356772c-dc29-4872-bdcb-08c9648228f7",
   "metadata": {},
   "outputs": [
    {
     "name": "stdout",
     "output_type": "stream",
     "text": [
      "Usage: mlflow models serve [OPTIONS]\n",
      "Try 'mlflow models serve --help' for help.\n",
      "\n",
      "Error: Invalid value for '--port' / '-p': '--no-conda' is not a valid integer.\n"
     ]
    }
   ],
   "source": [
    "!mlflow models serve -m $ARTIFACT_STORE -h $SERVER_HOST -p $SERVER_PORT --no-conda"
   ]
  },
  {
   "cell_type": "code",
   "execution_count": 30,
   "id": "e1b488f8-d837-4dec-9771-e96643589de9",
   "metadata": {},
   "outputs": [],
   "source": [
    "import docker\n"
   ]
  },
  {
   "cell_type": "code",
   "execution_count": null,
   "id": "16535523-b0ba-4067-a4df-dc075b8b98f3",
   "metadata": {},
   "outputs": [],
   "source": []
  }
 ],
 "metadata": {
  "kernelspec": {
   "display_name": "AIF",
   "language": "python",
   "name": "aif"
  },
  "language_info": {
   "codemirror_mode": {
    "name": "ipython",
    "version": 3
   },
   "file_extension": ".py",
   "mimetype": "text/x-python",
   "name": "python",
   "nbconvert_exporter": "python",
   "pygments_lexer": "ipython3",
   "version": "3.10.4"
  }
 },
 "nbformat": 4,
 "nbformat_minor": 5
}
