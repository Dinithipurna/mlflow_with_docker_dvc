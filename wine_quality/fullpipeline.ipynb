{
 "cells": [
  {
   "cell_type": "code",
   "execution_count": 1,
   "id": "6c2e5568-255e-41fc-9121-622e756276af",
   "metadata": {},
   "outputs": [
    {
     "name": "stdout",
     "output_type": "stream",
     "text": [
      "zsh:1: command not found: dvc\n"
     ]
    }
   ],
   "source": [
    "!dvc get"
   ]
  },
  {
   "cell_type": "code",
   "execution_count": 8,
   "id": "d8d0c596-aee1-499f-ba2a-a523003f472b",
   "metadata": {},
   "outputs": [],
   "source": [
    "import dvc"
   ]
  },
  {
   "cell_type": "code",
   "execution_count": 2,
   "id": "1f990d94-4147-4eeb-819a-b9a3ffc72890",
   "metadata": {},
   "outputs": [
    {
     "name": "stdout",
     "output_type": "stream",
     "text": [
      "* main\n",
      "  version1\n"
     ]
    }
   ],
   "source": [
    "!git branch\n"
   ]
  },
  {
   "cell_type": "code",
   "execution_count": 4,
   "id": "f784de45-90d1-4d1a-be17-3fe9b520ea43",
   "metadata": {},
   "outputs": [
    {
     "name": "stdout",
     "output_type": "stream",
     "text": [
      "Switched to branch 'version1'\n"
     ]
    }
   ],
   "source": [
    "!git checkout version1"
   ]
  },
  {
   "cell_type": "code",
   "execution_count": 7,
   "id": "51619338-a081-438f-a172-f7031c613534",
   "metadata": {},
   "outputs": [
    {
     "name": "stdout",
     "output_type": "stream",
     "text": [
      "zsh:1: command not found: dvc\n"
     ]
    }
   ],
   "source": [
    "!dvc checkout "
   ]
  },
  {
   "cell_type": "code",
   "execution_count": 9,
   "id": "7b4060b2-c5b2-4a00-8f80-1424da33bd4d",
   "metadata": {},
   "outputs": [
    {
     "data": {
      "text/plain": [
       "'/Users/macbook/Documents/GitHub/mlflow_with_docker_dvc/wine_quality'"
      ]
     },
     "execution_count": 9,
     "metadata": {},
     "output_type": "execute_result"
    }
   ],
   "source": [
    "pwd"
   ]
  },
  {
   "cell_type": "code",
   "execution_count": 10,
   "id": "71d972c0-8b76-4793-8867-0f4812c62300",
   "metadata": {},
   "outputs": [
    {
     "name": "stdout",
     "output_type": "stream",
     "text": [
      "Traceback (most recent call last):\n",
      "  File \"/Users/macbook/Documents/GitHub/mlflow_with_docker_dvc/wine_quality/train.py\", line 16, in <module>\n",
      "    import mlflow\n",
      "ModuleNotFoundError: No module named 'mlflow'\n"
     ]
    }
   ],
   "source": [
    "!python train.py"
   ]
  },
  {
   "cell_type": "code",
   "execution_count": 1,
   "id": "4fbb5958-a677-4631-b4a9-466d561c523d",
   "metadata": {},
   "outputs": [],
   "source": [
    "import mlflow"
   ]
  },
  {
   "cell_type": "code",
   "execution_count": 2,
   "id": "58229d2b-1e5e-43bf-a7e9-3bb12147ba94",
   "metadata": {},
   "outputs": [],
   "source": [
    "from  mlflow.tracking import MlflowClient\n",
    "client = MlflowClient()\n",
    "experiments = client.list_experiments() # returns a list of mlflow.entities.Experiment\n",
    "run = client.create_run(experiments[0].experiment_id) # returns mlflow.entities.Run\n",
    "client.log_param(run.info.run_id, \"hello\", \"world\")\n",
    "client.set_terminated(run.info.run_id)\n"
   ]
  },
  {
   "cell_type": "code",
   "execution_count": 3,
   "id": "8b6b71ec-4c81-4775-b2f6-ea7be2b4fb08",
   "metadata": {},
   "outputs": [],
   "source": [
    "experiments = client.list_experiments()"
   ]
  },
  {
   "cell_type": "code",
   "execution_count": 4,
   "id": "962079a8-f42d-48d3-ad3c-3ae5c8c76b43",
   "metadata": {},
   "outputs": [],
   "source": [
    "run = client.create_run(experiments[0].experiment_id)"
   ]
  },
  {
   "cell_type": "code",
   "execution_count": 5,
   "id": "1be1d9ac-347b-4899-912f-d310bca05c59",
   "metadata": {},
   "outputs": [],
   "source": [
    "client.log_param(run.info.run_id, \"hello\", \"world\")"
   ]
  },
  {
   "cell_type": "code",
   "execution_count": 6,
   "id": "d329f827-bf0c-4c37-9551-2fdf9d2248fc",
   "metadata": {},
   "outputs": [],
   "source": [
    "client.set_terminated(run.info.run_id)"
   ]
  },
  {
   "cell_type": "code",
   "execution_count": null,
   "id": "89972d40-0005-43bd-a195-d8155897356c",
   "metadata": {},
   "outputs": [],
   "source": []
  }
 ],
 "metadata": {
  "kernelspec": {
   "display_name": "AIF",
   "language": "python",
   "name": "aif"
  },
  "language_info": {
   "codemirror_mode": {
    "name": "ipython",
    "version": 3
   },
   "file_extension": ".py",
   "mimetype": "text/x-python",
   "name": "python",
   "nbconvert_exporter": "python",
   "pygments_lexer": "ipython3",
   "version": "3.10.4"
  }
 },
 "nbformat": 4,
 "nbformat_minor": 5
}
