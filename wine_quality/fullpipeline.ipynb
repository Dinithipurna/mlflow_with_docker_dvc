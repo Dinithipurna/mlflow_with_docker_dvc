{
 "cells": [
  {
   "cell_type": "code",
   "execution_count": 1,
   "id": "6c2e5568-255e-41fc-9121-622e756276af",
   "metadata": {},
   "outputs": [
    {
     "name": "stdout",
     "output_type": "stream",
     "text": [
      "zsh:1: command not found: dvc\n"
     ]
    }
   ],
   "source": [
    "!dvc get"
   ]
  },
  {
   "cell_type": "code",
   "execution_count": 8,
   "id": "d8d0c596-aee1-499f-ba2a-a523003f472b",
   "metadata": {},
   "outputs": [],
   "source": [
    "import dvc"
   ]
  },
  {
   "cell_type": "code",
   "execution_count": 2,
   "id": "1f990d94-4147-4eeb-819a-b9a3ffc72890",
   "metadata": {},
   "outputs": [
    {
     "name": "stdout",
     "output_type": "stream",
     "text": [
      "* main\n",
      "  version1\n"
     ]
    }
   ],
   "source": [
    "!git branch\n"
   ]
  },
  {
   "cell_type": "code",
   "execution_count": 4,
   "id": "f784de45-90d1-4d1a-be17-3fe9b520ea43",
   "metadata": {},
   "outputs": [
    {
     "name": "stdout",
     "output_type": "stream",
     "text": [
      "Switched to branch 'version1'\n"
     ]
    }
   ],
   "source": [
    "!git checkout version1"
   ]
  },
  {
   "cell_type": "code",
   "execution_count": 7,
   "id": "51619338-a081-438f-a172-f7031c613534",
   "metadata": {},
   "outputs": [
    {
     "name": "stdout",
     "output_type": "stream",
     "text": [
      "zsh:1: command not found: dvc\n"
     ]
    }
   ],
   "source": [
    "!dvc checkout "
   ]
  },
  {
   "cell_type": "code",
   "execution_count": 9,
   "id": "7b4060b2-c5b2-4a00-8f80-1424da33bd4d",
   "metadata": {},
   "outputs": [
    {
     "data": {
      "text/plain": [
       "'/Users/macbook/Documents/GitHub/mlflow_with_docker_dvc/wine_quality'"
      ]
     },
     "execution_count": 9,
     "metadata": {},
     "output_type": "execute_result"
    }
   ],
   "source": [
    "pwd"
   ]
  },
  {
   "cell_type": "code",
   "execution_count": 10,
   "id": "71d972c0-8b76-4793-8867-0f4812c62300",
   "metadata": {},
   "outputs": [
    {
     "name": "stdout",
     "output_type": "stream",
     "text": [
      "Traceback (most recent call last):\n",
      "  File \"/Users/macbook/Documents/GitHub/mlflow_with_docker_dvc/wine_quality/train.py\", line 16, in <module>\n",
      "    import mlflow\n",
      "ModuleNotFoundError: No module named 'mlflow'\n"
     ]
    }
   ],
   "source": [
    "!python train.py"
   ]
  },
  {
   "cell_type": "code",
   "execution_count": 1,
   "id": "4fbb5958-a677-4631-b4a9-466d561c523d",
   "metadata": {},
   "outputs": [],
   "source": [
    "import mlflow"
   ]
  },
  {
   "cell_type": "code",
   "execution_count": 2,
   "id": "58229d2b-1e5e-43bf-a7e9-3bb12147ba94",
   "metadata": {},
   "outputs": [],
   "source": [
    "from  mlflow.tracking import MlflowClient\n",
    "client = MlflowClient()\n",
    "experiments = client.list_experiments() # returns a list of mlflow.entities.Experiment\n",
    "run = client.create_run(experiments[0].experiment_id) # returns mlflow.entities.Run\n",
    "client.log_param(run.info.run_id, \"hello\", \"world\")\n",
    "client.set_terminated(run.info.run_id)\n"
   ]
  },
  {
   "cell_type": "code",
   "execution_count": 3,
   "id": "8b6b71ec-4c81-4775-b2f6-ea7be2b4fb08",
   "metadata": {},
   "outputs": [],
   "source": [
    "experiments = client.list_experiments()"
   ]
  },
  {
   "cell_type": "code",
   "execution_count": 4,
   "id": "962079a8-f42d-48d3-ad3c-3ae5c8c76b43",
   "metadata": {},
   "outputs": [],
   "source": [
    "run = client.create_run(experiments[0].experiment_id)"
   ]
  },
  {
   "cell_type": "code",
   "execution_count": 5,
   "id": "1be1d9ac-347b-4899-912f-d310bca05c59",
   "metadata": {},
   "outputs": [],
   "source": [
    "client.log_param(run.info.run_id, \"hello\", \"world\")"
   ]
  },
  {
   "cell_type": "code",
   "execution_count": 6,
   "id": "d329f827-bf0c-4c37-9551-2fdf9d2248fc",
   "metadata": {},
   "outputs": [],
   "source": [
    "client.set_terminated(run.info.run_id)"
   ]
  },
  {
   "cell_type": "code",
   "execution_count": 11,
   "id": "89972d40-0005-43bd-a195-d8155897356c",
   "metadata": {},
   "outputs": [],
   "source": [
    "model = pickle.load(open(\"mlruns/0/d8530a97baa246479d0e2506869af719/artifacts/model/model.pkl\", \"rb\"))"
   ]
  },
  {
   "cell_type": "code",
   "execution_count": 8,
   "id": "d9dcad9c-0171-4f91-b8a0-92e05955a5d2",
   "metadata": {},
   "outputs": [],
   "source": [
    "import pickle"
   ]
  },
  {
   "cell_type": "code",
   "execution_count": 10,
   "id": "bd42e261-7fc8-4a67-83e6-d09c2a5b4de1",
   "metadata": {},
   "outputs": [
    {
     "data": {
      "text/plain": [
       "'/Users/macbook/Documents/GitHub/mlflow_with_docker_dvc/wine_quality'"
      ]
     },
     "execution_count": 10,
     "metadata": {},
     "output_type": "execute_result"
    }
   ],
   "source": [
    "pwd"
   ]
  },
  {
   "cell_type": "code",
   "execution_count": 15,
   "id": "95251bbc-1e5a-4a9e-9297-351d8b961231",
   "metadata": {},
   "outputs": [
    {
     "ename": "TypeError",
     "evalue": "LinearModel.predict() takes 2 positional arguments but 14 were given",
     "output_type": "error",
     "traceback": [
      "\u001b[0;31m---------------------------------------------------------------------------\u001b[0m",
      "\u001b[0;31mTypeError\u001b[0m                                 Traceback (most recent call last)",
      "Input \u001b[0;32mIn [15]\u001b[0m, in \u001b[0;36m<cell line: 1>\u001b[0;34m()\u001b[0m\n\u001b[0;32m----> 1\u001b[0m predicted_qualities \u001b[38;5;241m=\u001b[39m \u001b[43mmodel\u001b[49m\u001b[38;5;241;43m.\u001b[39;49m\u001b[43mpredict\u001b[49m\u001b[43m(\u001b[49m\u001b[38;5;241;43m1\u001b[39;49m\u001b[43m,\u001b[49m\u001b[38;5;241;43m6.8\u001b[39;49m\u001b[43m,\u001b[49m\u001b[38;5;241;43m0.21\u001b[39;49m\u001b[43m,\u001b[49m\u001b[38;5;241;43m0.36\u001b[39;49m\u001b[43m,\u001b[49m\u001b[38;5;241;43m18.1\u001b[39;49m\u001b[43m,\u001b[49m\u001b[38;5;241;43m0.046\u001b[39;49m\u001b[43m,\u001b[49m\u001b[38;5;241;43m32.0\u001b[39;49m\u001b[43m,\u001b[49m\u001b[38;5;241;43m133.0\u001b[39;49m\u001b[43m,\u001b[49m\u001b[38;5;241;43m1.0\u001b[39;49m\u001b[43m,\u001b[49m\u001b[38;5;241;43m3.27\u001b[39;49m\u001b[43m,\u001b[49m\u001b[38;5;241;43m0.48\u001b[39;49m\u001b[43m,\u001b[49m\u001b[38;5;241;43m8.8\u001b[39;49m\u001b[43m,\u001b[49m\u001b[38;5;241;43m5\u001b[39;49m\u001b[43m)\u001b[49m\n",
      "\u001b[0;31mTypeError\u001b[0m: LinearModel.predict() takes 2 positional arguments but 14 were given"
     ]
    }
   ],
   "source": [
    "predicted_qualities = model.predict()"
   ]
  },
  {
   "cell_type": "code",
   "execution_count": 22,
   "id": "59bf42b5-8395-4147-8d62-5901fa91cb47",
   "metadata": {},
   "outputs": [],
   "source": [
    "import os\n",
    "import pandas as pd\n",
    "# wine_path = os.path.join(os.path.dirname(os.path.abspath(__file__)),\"test.csv\")\n",
    "data = pd.read_csv(\"test.csv\")"
   ]
  },
  {
   "cell_type": "code",
   "execution_count": 23,
   "id": "8f79af18-1393-4532-8e33-2620bd38b36f",
   "metadata": {},
   "outputs": [],
   "source": [
    "predicted_qualities = model.predict(data)"
   ]
  },
  {
   "cell_type": "code",
   "execution_count": 26,
   "id": "9295f98b-889d-46cf-b12a-bcea326d1d22",
   "metadata": {},
   "outputs": [
    {
     "data": {
      "text/plain": [
       "5.574009189609262"
      ]
     },
     "execution_count": 26,
     "metadata": {},
     "output_type": "execute_result"
    }
   ],
   "source": [
    "predicted_qualities[0]"
   ]
  },
  {
   "cell_type": "code",
   "execution_count": 28,
   "id": "3c749734-6d7b-4781-a6cc-88761a623408",
   "metadata": {},
   "outputs": [
    {
     "name": "stdout",
     "output_type": "stream",
     "text": [
      "5.574009189609262\n"
     ]
    }
   ],
   "source": [
    "!python test.py --model_path \"mlruns/0/d8530a97baa246479d0e2506869af719/artifacts/model/model.pkl\""
   ]
  },
  {
   "cell_type": "code",
   "execution_count": null,
   "id": "a385c4f7-4313-4d14-9630-9cb3605f9955",
   "metadata": {},
   "outputs": [],
   "source": []
  }
 ],
 "metadata": {
  "kernelspec": {
   "display_name": "AIF",
   "language": "python",
   "name": "aif"
  },
  "language_info": {
   "codemirror_mode": {
    "name": "ipython",
    "version": 3
   },
   "file_extension": ".py",
   "mimetype": "text/x-python",
   "name": "python",
   "nbconvert_exporter": "python",
   "pygments_lexer": "ipython3",
   "version": "3.10.4"
  }
 },
 "nbformat": 4,
 "nbformat_minor": 5
}
